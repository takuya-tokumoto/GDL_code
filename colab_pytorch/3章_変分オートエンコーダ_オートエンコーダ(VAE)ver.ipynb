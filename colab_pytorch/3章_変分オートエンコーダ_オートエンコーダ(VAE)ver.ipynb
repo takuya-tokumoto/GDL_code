{
  "nbformat": 4,
  "nbformat_minor": 0,
  "metadata": {
    "colab": {
      "name": "3章_変分オートエンコーダ_オートエンコーダ(VAE)ver.ipynb",
      "provenance": [],
      "authorship_tag": "ABX9TyNNshnoldhaFCuO6nWfsp1j",
      "include_colab_link": true
    },
    "kernelspec": {
      "name": "python3",
      "display_name": "Python 3"
    },
    "language_info": {
      "name": "python"
    }
  },
  "cells": [
    {
      "cell_type": "markdown",
      "metadata": {
        "id": "view-in-github",
        "colab_type": "text"
      },
      "source": [
        "<a href=\"https://colab.research.google.com/github/takuya-tokumoto/GDL_code/blob/master/colab_pytorch/3%E7%AB%A0_%E5%A4%89%E5%88%86%E3%82%AA%E3%83%BC%E3%83%88%E3%82%A8%E3%83%B3%E3%82%B3%E3%83%BC%E3%83%80_%E3%82%AA%E3%83%BC%E3%83%88%E3%82%A8%E3%83%B3%E3%82%B3%E3%83%BC%E3%83%80(VAE)ver.ipynb\" target=\"_parent\"><img src=\"https://colab.research.google.com/assets/colab-badge.svg\" alt=\"Open In Colab\"/></a>"
      ]
    },
    {
      "cell_type": "markdown",
      "source": [
        "【README】  \n",
        "- 変分オートエンコーダを利用して、手書き文字データから新たな画像を生成\n",
        "- Pytorchによる実装\n",
        "- 参考・引用\n",
        "    - https://atmarkit.itmedia.co.jp/ait/articles/2007/10/news024_2.html\n",
        "    - https://ichi.pro/pytorch-de-tatamikomi-vae-o-kochikusuru-176975412232049\n",
        "    -https://qiita.com/kenmatsu4/items/b029d697e9995d93aa24\n",
        "    -https://tips-memo.com/vae-pytorch\n",
        "    -https://deepblue-ts.co.jp/image-generation/pytorch_vae/"
      ],
      "metadata": {
        "id": "rwHc8CdcKGFQ"
      }
    },
    {
      "cell_type": "markdown",
      "source": [
        "# 準備"
      ],
      "metadata": {
        "id": "Ah9tYnYV3fe3"
      }
    },
    {
      "cell_type": "code",
      "execution_count": 22,
      "metadata": {
        "colab": {
          "base_uri": "https://localhost:8080/"
        },
        "id": "TRXwYIV0KCRG",
        "outputId": "75fa140d-e54c-440d-ea4d-516ae78c71bd"
      },
      "outputs": [
        {
          "output_type": "stream",
          "name": "stdout",
          "text": [
            "Requirement already satisfied: torchinfo in /usr/local/lib/python3.7/dist-packages (1.6.3)\n"
          ]
        }
      ],
      "source": [
        "!pip install torchinfo\n",
        "import torch\n",
        "import torch.nn as nn\n",
        "from torch.utils.data import DataLoader\n",
        "import torchvision\n",
        "from torchvision import transforms\n",
        "from torchvision.datasets import MNIST\n",
        "from torchinfo import summary\n",
        "import torch.nn.functional as F\n",
        "import numpy as np\n",
        "import matplotlib.pyplot as plt\n",
        "from torchvision import datasets, transforms"
      ]
    },
    {
      "cell_type": "code",
      "source": [
        "def describe_model(model:torch.nn.Module, input_size:tuple, input_data=None):\n",
        "    if input_data is None:\n",
        "        summary_str = summary(model,\n",
        "            input_size=input_size,\n",
        "            col_names=['input_size', 'output_size', 'num_params', 'kernel_size', 'mult_adds'],\n",
        "            col_width=18,\n",
        "            row_settings=['var_names'],\n",
        "            verbose=1)\n",
        "    else:\n",
        "        summary_str = summary(model,\n",
        "            input_data=input_data,\n",
        "            col_names=['input_size', 'output_size', 'num_params', 'kernel_size', 'mult_adds'],\n",
        "            col_width=18,\n",
        "            row_settings=['var_names'],\n",
        "            verbose=1)"
      ],
      "metadata": {
        "id": "7pWrhRNZKezc"
      },
      "execution_count": 24,
      "outputs": []
    },
    {
      "cell_type": "markdown",
      "source": [
        "# データ読み込み"
      ],
      "metadata": {
        "id": "zuYGzUc-3OGo"
      }
    },
    {
      "cell_type": "code",
      "source": [
        "transform = transforms.Compose([transforms.ToTensor(),\n",
        "                                # transforms.Normalize((0.5,), (0.5,)),  # 正規化を行うとlossが計算できない\n",
        "                                transforms.Lambda(lambda x: x.view(-1))]) # 画像の一次元配列化\n",
        "\n",
        "trainset = MNIST('./data', train = True, transform = transform, download = True)\n",
        "testset = MNIST('./data', train = False, transform = transform, download = True)\n",
        "\n",
        "batch_size = 50\n",
        "trainloader = DataLoader(trainset, batch_size = batch_size, shuffle = True)\n",
        "testloader = DataLoader(testset, batch_size = batch_size, shuffle = True)"
      ],
      "metadata": {
        "id": "wd_R90ARLX-V"
      },
      "execution_count": 30,
      "outputs": []
    },
    {
      "cell_type": "markdown",
      "source": [
        "# 学習"
      ],
      "metadata": {
        "id": "UnUgqiJX3SKf"
      }
    },
    {
      "cell_type": "code",
      "source": [
        "class VAE(nn.Module):\n",
        "    def __init__(self, z_dim):\n",
        "      super(VAE, self).__init__()\n",
        "      self.dense_enc1 = nn.Linear(28*28, 200)\n",
        "      self.dense_enc2 = nn.Linear(200, 200)\n",
        "      self.dense_encmean = nn.Linear(200, z_dim)\n",
        "      self.dense_encvar = nn.Linear(200, z_dim)\n",
        "      self.dense_dec1 = nn.Linear(z_dim, 200)\n",
        "      self.dense_dec2 = nn.Linear(200, 200)\n",
        "      self.dense_dec3 = nn.Linear(200, 28*28)\n",
        "    \n",
        "    def _encoder(self, x):\n",
        "      x = F.relu(self.dense_enc1(x))\n",
        "      x = F.relu(self.dense_enc2(x))\n",
        "      mean = self.dense_encmean(x)\n",
        "      var = F.softplus(self.dense_encvar(x))\n",
        "      return mean, var\n",
        "    \n",
        "    def _sample_z(self, mean, var):\n",
        "      epsilon = torch.randn(mean.shape)\n",
        "      return mean + torch.sqrt(var) * epsilon\n",
        " \n",
        "    def _decoder(self, z):\n",
        "      x = F.relu(self.dense_dec1(z))\n",
        "      x = F.relu(self.dense_dec2(x))\n",
        "      x = F.sigmoid(self.dense_dec3(x))\n",
        "      return x\n",
        "\n",
        "    def forward(self, x):\n",
        "      mean, var = self._encoder(x)\n",
        "      z = self._sample_z(mean, var)\n",
        "      x = self._decoder(z)\n",
        "      return x, z\n",
        "    \n",
        "    def loss(self, x):\n",
        "      mean, var = self._encoder(x)\n",
        "      KL = -0.5 * torch.mean(torch.sum(1 + torch.log(var) - mean**2 - var))\n",
        "      z = self._sample_z(mean, var)\n",
        "      y = self._decoder(z)\n",
        "      reconstruction = torch.mean(torch.sum(x * torch.log(y) + (1 - x) * torch.log(1 - y)))\n",
        "      lower_bound = [-KL, reconstruction]                                      \n",
        "      return -sum(lower_bound)"
      ],
      "metadata": {
        "id": "zHYGu3lGLMib"
      },
      "execution_count": 25,
      "outputs": []
    },
    {
      "cell_type": "code",
      "source": [
        "from torch import optim\n",
        "\n",
        "model = VAE(10)\n",
        "optimizer = optim.Adam(model.parameters(), lr=0.001)\n",
        "model.train()"
      ],
      "metadata": {
        "colab": {
          "base_uri": "https://localhost:8080/"
        },
        "id": "-HfSky3KLX68",
        "outputId": "45263fe2-b851-403e-cab0-daa6e15fbc2d"
      },
      "execution_count": 31,
      "outputs": [
        {
          "output_type": "execute_result",
          "data": {
            "text/plain": [
              "VAE(\n",
              "  (dense_enc1): Linear(in_features=784, out_features=200, bias=True)\n",
              "  (dense_enc2): Linear(in_features=200, out_features=200, bias=True)\n",
              "  (dense_encmean): Linear(in_features=200, out_features=10, bias=True)\n",
              "  (dense_encvar): Linear(in_features=200, out_features=10, bias=True)\n",
              "  (dense_dec1): Linear(in_features=10, out_features=200, bias=True)\n",
              "  (dense_dec2): Linear(in_features=200, out_features=200, bias=True)\n",
              "  (dense_dec3): Linear(in_features=200, out_features=784, bias=True)\n",
              ")"
            ]
          },
          "metadata": {},
          "execution_count": 31
        }
      ]
    },
    {
      "cell_type": "code",
      "source": [
        "for i in range(3):\n",
        "  losses = []\n",
        "  for x, t in trainloader:\n",
        "      x = x\n",
        "      model.zero_grad()\n",
        "      y = model(x)\n",
        "      loss = model.loss(x)\n",
        "      loss.backward()\n",
        "      optimizer.step()\n",
        "      losses.append(loss.cpu().detach().numpy())\n",
        "  print(\"EPOCH: {} loss: {}\".format(i, np.average(losses)))"
      ],
      "metadata": {
        "colab": {
          "base_uri": "https://localhost:8080/"
        },
        "id": "8djkL4oZLXoW",
        "outputId": "81ab8c4f-f4ad-4d8b-8392-c43aae886fc9"
      },
      "execution_count": 32,
      "outputs": [
        {
          "output_type": "stream",
          "name": "stderr",
          "text": [
            "/usr/local/lib/python3.7/dist-packages/torch/nn/functional.py:1806: UserWarning: nn.functional.sigmoid is deprecated. Use torch.sigmoid instead.\n",
            "  warnings.warn(\"nn.functional.sigmoid is deprecated. Use torch.sigmoid instead.\")\n"
          ]
        },
        {
          "output_type": "stream",
          "name": "stdout",
          "text": [
            "EPOCH: 0 loss: 8066.8310546875\n",
            "EPOCH: 1 loss: 6110.7197265625\n",
            "EPOCH: 2 loss: 5768.47607421875\n"
          ]
        }
      ]
    },
    {
      "cell_type": "markdown",
      "source": [
        "# 生成"
      ],
      "metadata": {
        "id": "TBsRuLBv3WvS"
      }
    },
    {
      "cell_type": "code",
      "source": [
        "%matplotlib inline\n",
        "import matplotlib.pyplot as plt\n",
        "import numpy as np\n",
        "\n",
        "fig = plt.figure(figsize=(10, 3))\n",
        "\n",
        "model.eval()\n",
        "zs = []\n",
        "for x, t in testloader:\n",
        "    # original\n",
        "    for i, im in enumerate(x.view(-1, 28, 28).detach().numpy()[:10]):\n",
        "      ax = fig.add_subplot(3, 10, i+1, xticks=[], yticks=[])\n",
        "      ax.imshow(im, 'gray')\n",
        "    x = x\n",
        "    # generate from x\n",
        "    y, z = model(x)\n",
        "    zs.append(z)\n",
        "    y = y.view(-1, 28, 28)\n",
        "    for i, im in enumerate(y.cpu().detach().numpy()[:10]):\n",
        "      ax = fig.add_subplot(3, 10, i+11, xticks=[], yticks=[])\n",
        "      ax.imshow(im, 'gray')\n",
        "    # # generate from z\n",
        "    # z1to0 = torch.cat([z[1] * (i * 0.1) + z[0] * ((9 - i) * 0.1) for i in range(10)])\n",
        "    # y2 = model._decoder(z1to0).view(-1, 28, 28)\n",
        "    # for i, im in enumerate(y2.cpu().detach().numpy()):\n",
        "    #   ax = fig.add_subplot(3, 10, i+21, xticks=[], yticks=[])\n",
        "    #   ax.imshow(im, 'gray')\n",
        "    break"
      ],
      "metadata": {
        "colab": {
          "base_uri": "https://localhost:8080/",
          "height": 175
        },
        "id": "XhGTlxKbMKTx",
        "outputId": "2fcd6297-fea8-4950-93fb-9a94e21c4502"
      },
      "execution_count": 38,
      "outputs": [
        {
          "output_type": "stream",
          "name": "stderr",
          "text": [
            "/usr/local/lib/python3.7/dist-packages/torch/nn/functional.py:1806: UserWarning: nn.functional.sigmoid is deprecated. Use torch.sigmoid instead.\n",
            "  warnings.warn(\"nn.functional.sigmoid is deprecated. Use torch.sigmoid instead.\")\n"
          ]
        },
        {
          "output_type": "display_data",
          "data": {
            "image/png": "[encoded data removed]",
            "text/plain": [
              "<Figure size 720x216 with 20 Axes>"
            ]
          },
          "metadata": {}
        }
      ]
    },
    {
      "cell_type": "code",
      "source": [
        "%matplotlib inline\n",
        "import matplotlib.pyplot as plt\n",
        "from sklearn.manifold import TSNE\n",
        "from random import random\n",
        "\n",
        "colors = [\"red\", \"green\", \"blue\", \"orange\", \"purple\", \"brown\", \"fuchsia\", \"grey\", \"olive\", \"lightblue\"]\n",
        "def visualize_zs(zs, labels):\n",
        "  plt.figure(figsize=(10,10))\n",
        "  points = TSNE(n_components=2, random_state=0).fit_transform(zs)\n",
        "  for p, l in zip(points, labels):\n",
        "    plt.scatter(p[0], p[1], marker=\"${}$\".format(l), c=colors[l])\n",
        "  plt.show()\n",
        "\n",
        "model.eval()\n",
        "zs = []\n",
        "for x, t in testloader:\n",
        "    x = x\n",
        "    t = t\n",
        "    # generate from x\n",
        "    y, z = model(x)\n",
        "    z = z.cpu()\n",
        "    t = t.cpu()\n",
        "    visualize_zs(z.detach().numpy(), t.cpu().detach().numpy())\n",
        "    break"
      ],
      "metadata": {
        "colab": {
          "base_uri": "https://localhost:8080/",
          "height": 702
        },
        "id": "H0ogmd1YMKGK",
        "outputId": "fd240105-7fa2-4150-f7e6-9131e25fb8c4"
      },
      "execution_count": 40,
      "outputs": [
        {
          "output_type": "stream",
          "name": "stderr",
          "text": [
            "/usr/local/lib/python3.7/dist-packages/torch/nn/functional.py:1806: UserWarning: nn.functional.sigmoid is deprecated. Use torch.sigmoid instead.\n",
            "  warnings.warn(\"nn.functional.sigmoid is deprecated. Use torch.sigmoid instead.\")\n",
            "/usr/local/lib/python3.7/dist-packages/sklearn/manifold/_t_sne.py:783: FutureWarning: The default initialization in TSNE will change from 'random' to 'pca' in 1.2.\n",
            "  FutureWarning,\n",
            "/usr/local/lib/python3.7/dist-packages/sklearn/manifold/_t_sne.py:793: FutureWarning: The default learning rate in TSNE will change from 200.0 to 'auto' in 1.2.\n",
            "  FutureWarning,\n"
          ]
        },
        {
          "output_type": "display_data",
          "data": {
            "image/png": "[encoded data removed]",
            "text/plain": [
              "<Figure size 720x720 with 1 Axes>"
            ]
          },
          "metadata": {
            "needs_background": "light"
          }
        }
      ]
    },
    {
      "cell_type": "code",
      "source": [
        ""
      ],
      "metadata": {
        "id": "7YLC5l994KPN"
      },
      "execution_count": null,
      "outputs": []
    }
  ]
}